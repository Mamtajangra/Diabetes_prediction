{
 "cells": [
  {
   "cell_type": "code",
   "execution_count": null,
   "id": "57f558ce",
   "metadata": {},
   "outputs": [],
   "source": [
    "import numpy as np\n",
    "import pandas as pd\n",
    "import matplotlib.pyplot as plt\n",
    "import seaborn as sns"
   ]
  },
  {
   "cell_type": "code",
   "execution_count": null,
   "metadata": {},
   "outputs": [],
   "source": [
    "df = pd.read_csv(\"diabetes.csv\")         ## load dataset\n",
    "df"
   ]
  },
  {
   "cell_type": "code",
   "execution_count": null,
   "id": "588f8273",
   "metadata": {},
   "outputs": [],
   "source": [
    "df.head(5)        ## first 5 rows"
   ]
  },
  {
   "cell_type": "code",
   "execution_count": null,
   "id": "bbf179cc",
   "metadata": {},
   "outputs": [],
   "source": [
    "df.tail(5)          ## last 5 rows"
   ]
  },
  {
   "cell_type": "code",
   "execution_count": null,
   "id": "19f11714",
   "metadata": {},
   "outputs": [],
   "source": [
    "df.columns"
   ]
  },
  {
   "cell_type": "code",
   "execution_count": null,
   "metadata": {},
   "outputs": [],
   "source": [
    "df.size"
   ]
  },
  {
   "cell_type": "code",
   "execution_count": null,
   "id": "d10ec5e0",
   "metadata": {},
   "outputs": [],
   "source": [
    "df.shape"
   ]
  },
  {
   "cell_type": "code",
   "execution_count": null,
   "id": "86ecb402",
   "metadata": {},
   "outputs": [],
   "source": [
    "df.info()"
   ]
  },
  {
   "cell_type": "code",
   "execution_count": null,
   "id": "1074d5f6",
   "metadata": {},
   "outputs": [],
   "source": [
    "df.describe()"
   ]
  },
  {
   "cell_type": "code",
   "execution_count": null,
   "id": "2b9b5256",
   "metadata": {},
   "outputs": [],
   "source": [
    "df.dtypes"
   ]
  },
  {
   "cell_type": "code",
   "execution_count": null,
   "id": "62a33892",
   "metadata": {},
   "outputs": [],
   "source": [
    "df.notnull()"
   ]
  },
  {
   "cell_type": "code",
   "execution_count": null,
   "id": "10f4c165",
   "metadata": {},
   "outputs": [],
   "source": [
    "df.isnull()"
   ]
  },
  {
   "cell_type": "code",
   "execution_count": null,
   "id": "1a1fa273",
   "metadata": {},
   "outputs": [],
   "source": [
    "df.duplicated()"
   ]
  },
  {
   "cell_type": "code",
   "execution_count": null,
   "id": "9f517adc",
   "metadata": {},
   "outputs": [],
   "source": [
    "df.index            ## range"
   ]
  },
  {
   "cell_type": "code",
   "execution_count": null,
   "id": "ec5ea821",
   "metadata": {},
   "outputs": [],
   "source": [
    "df.min()"
   ]
  },
  {
   "cell_type": "code",
   "execution_count": null,
   "id": "57b2d07f",
   "metadata": {},
   "outputs": [],
   "source": [
    "df.max()"
   ]
  },
  {
   "cell_type": "code",
   "execution_count": null,
   "id": "a09ffbfa",
   "metadata": {},
   "outputs": [],
   "source": [
    "df.mean()"
   ]
  },
  {
   "cell_type": "code",
   "execution_count": null,
   "id": "ae1cbb29",
   "metadata": {},
   "outputs": [],
   "source": [
    "df.columns"
   ]
  },
  {
   "cell_type": "code",
   "execution_count": null,
   "id": "3720c254",
   "metadata": {},
   "outputs": [],
   "source": [
    "X = df.drop(\"Outcome\",axis = 1)                       ## X = except \"outcome \" all are input\n",
    "y = df[\"Outcome\"]                                     ## \"outcome \" is output\n"
   ]
  },
  {
   "cell_type": "code",
   "execution_count": null,
   "id": "c79b3892",
   "metadata": {},
   "outputs": [],
   "source": [
    "from sklearn.model_selection import train_test_split       ## split training and testing data\n",
    "from sklearn.ensemble import RandomForestClassifier        ## choose Random forest model\n",
    "from sklearn.metrics import accuracy_score\n",
    "\n",
    "X_train, X_test, y_train, y_test = train_test_split(X, y, test_size=0.4, random_state=42)  ## split in this manner that 40% for testing and 60% for training\n",
    "\n",
    "model = RandomForestClassifier(random_state=42)\n",
    "model.fit(X_train, y_train)                                ## fit \n",
    "y_pred = model.predict(X_test)\n",
    "\n",
    "print(\"Accuracy:\", accuracy_score(y_test, y_pred))\n"
   ]
  },
  {
   "cell_type": "code",
   "execution_count": null,
   "id": "3908a68c",
   "metadata": {},
   "outputs": [],
   "source": [
    "import matplotlib.pyplot as plt\n",
    "\n",
    "# Suppose X_train is your DataFrame      graph between pregnancies and insulin\n",
    "plt.figure(figsize=(6,4))\n",
    "plt.plot(X_train[\"Pregnancies\"], X_train[\"Insulin\"],\"o\", color='blue')  #  plot\n",
    "plt.xlabel(\"Pregnancies\")\n",
    "plt.ylabel(\"Insulin\")\n",
    "plt.title(\"Pregnancies vs Insulin\")\n",
    "plt.show()\n"
   ]
  },
  {
   "cell_type": "markdown",
   "id": "543117e2",
   "metadata": {},
   "source": [
    "## testing"
   ]
  },
  {
   "cell_type": "code",
   "execution_count": null,
   "id": "cec12ff0",
   "metadata": {},
   "outputs": [],
   "source": [
    "new_patient =pd.DataFrame([{'Pregnancies': 2,'Glucose': 130,'BloodPressure': 70,'SkinThickness': 25,'Insulin': 100,'BMI': 28.5,'DiabetesPedigreeFunction': 0.5,'Age': 32}])\n"
   ]
  },
  {
   "cell_type": "code",
   "execution_count": null,
   "id": "bad07e75",
   "metadata": {},
   "outputs": [],
   "source": [
    "plt.figure(figsize=(6,4))\n",
    "plt.scatter(new_patient[\"Glucose\"], new_patient[\"BMI\"], color='red', s=100)\n",
    "plt.xlabel(\"Glucose\")\n",
    "plt.ylabel(\"BMI\")\n",
    "plt.title(\"New Patient Glucose vs BMI\")      ## for new data graph between glucose and bmi\n",
    "plt.show()\n"
   ]
  },
  {
   "cell_type": "code",
   "execution_count": null,
   "id": "504a4b24",
   "metadata": {},
   "outputs": [],
   "source": [
    "prediction = model.predict(new_patient)\n",
    "probability = model.predict_proba(new_patient)      ##  find chance of diabetes\n",
    "\n",
    "print(\"Predicted Outcome (0=No, 1=Diabetes):\", prediction[0])\n",
    "print(\"Probability (No, Yes):\", probability[0])"
   ]
  },
  {
   "cell_type": "markdown",
   "id": "a038847a",
   "metadata": {},
   "source": [
    "##  to save model for making app for diabetes prediction"
   ]
  },
  {
   "cell_type": "code",
   "execution_count": null,
   "id": "b31ad298",
   "metadata": {},
   "outputs": [],
   "source": [
    "import joblib\n",
    "from sklearn.ensemble import RandomForestClassifier\n",
    "\n",
    "# Train your model\n",
    "model = RandomForestClassifier()\n",
    "model.fit(X_train, y_train)\n",
    "\n",
    "# Save the trained model\n",
    "joblib.dump(model, \"model.pkl\")\n"
   ]
  },
  {
   "cell_type": "code",
   "execution_count": null,
   "id": "eb9b4800",
   "metadata": {},
   "outputs": [],
   "source": []
  }
 ],
 "metadata": {
  "kernelspec": {
   "display_name": "Python 3",
   "language": "python",
   "name": "python3"
  },
  "language_info": {
   "codemirror_mode": {
    "name": "ipython",
    "version": 3
   },
   "file_extension": ".py",
   "mimetype": "text/x-python",
   "name": "python",
   "nbconvert_exporter": "python",
   "pygments_lexer": "ipython3",
   "version": "3.12.0"
  }
 },
 "nbformat": 4,
 "nbformat_minor": 5
}
